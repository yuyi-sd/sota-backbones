{
 "cells": [
  {
   "cell_type": "markdown",
   "source": [
    "## Setup"
   ],
   "metadata": {}
  },
  {
   "cell_type": "code",
   "execution_count": 1,
   "source": [
    "!git clone https://github.com/sithu31296/image-classification\r\n",
    "%cd image-classification\r\n",
    "%pip install -r requirements.txt\r\n",
    "\r\n",
    "import torch"
   ],
   "outputs": [],
   "metadata": {}
  },
  {
   "cell_type": "markdown",
   "source": [
    "## Show Available Models"
   ],
   "metadata": {}
  },
  {
   "cell_type": "code",
   "execution_count": 1,
   "source": [
    "from tools.show import show_models\r\n",
    "\r\n",
    "show_models()"
   ],
   "outputs": [
    {
     "output_type": "stream",
     "name": "stdout",
     "text": [
      "Model Names    Model Variants\n",
      "-------------  --------------------------------\n",
      "ResNet         ['18', '34', '50', '101', '152']\n",
      "MicroNet       ['M1', 'M2', 'M3']\n",
      "GFNet          ['T', 'S', 'B']\n",
      "PVTv2          ['B1', 'B2', 'B3', 'B4', 'B5']\n",
      "ResT           ['S', 'B', 'L']\n",
      "Conformer      ['T', 'S', 'B']\n",
      "Shuffle        ['T', 'S', 'B']\n",
      "CSWin          ['T', 'S', 'B', 'L']\n",
      "CycleMLP       ['B1', 'B2', 'B3', 'B4', 'B5']\n",
      "XciT           ['T', 'S', 'M', 'L']\n",
      "VOLO           ['D1', 'D2', 'D3', 'D4']\n"
     ]
    }
   ],
   "metadata": {}
  },
  {
   "cell_type": "markdown",
   "source": [
    "## Load a Model"
   ],
   "metadata": {}
  },
  {
   "cell_type": "code",
   "execution_count": 5,
   "source": [
    "from models import get_model\r\n",
    "\r\n",
    "model = get_model('ResT', 'B', pretrained=None)\r\n",
    "image = torch.randn(1, 3, 224, 224)\r\n",
    "output = model(image)\r\n",
    "output.shape"
   ],
   "outputs": [
    {
     "output_type": "execute_result",
     "data": {
      "text/plain": [
       "torch.Size([1, 1000])"
      ]
     },
     "metadata": {},
     "execution_count": 5
    }
   ],
   "metadata": {}
  },
  {
   "cell_type": "markdown",
   "source": [
    "## Load a Model with Pretrained Weights\r\n",
    "\r\n",
    "Download a model's weights from [Model Zoo](https://github.com/sithu31296/image-classification#model-zoo) and place it in a folder.\r\n",
    "\r\n",
    "```python\r\n",
    "model = get_model('ResT', 'B', pretrained='checkpoints/rest/rest_base.pth')\r\n",
    "```"
   ],
   "metadata": {}
  },
  {
   "cell_type": "code",
   "execution_count": null,
   "source": [],
   "outputs": [],
   "metadata": {}
  }
 ],
 "metadata": {
  "orig_nbformat": 4,
  "language_info": {
   "name": "python",
   "version": "3.9.5",
   "mimetype": "text/x-python",
   "codemirror_mode": {
    "name": "ipython",
    "version": 3
   },
   "pygments_lexer": "ipython3",
   "nbconvert_exporter": "python",
   "file_extension": ".py"
  },
  "kernelspec": {
   "name": "python3",
   "display_name": "Python 3.9.5 64-bit"
  },
  "interpreter": {
   "hash": "78184fe1b8a3f830767e8814b2b01c36fc7c8ac521e39cb583cd3fce210fee57"
  }
 },
 "nbformat": 4,
 "nbformat_minor": 2
}